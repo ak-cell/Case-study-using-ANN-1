{
 "cells": [
  {
   "cell_type": "markdown",
   "metadata": {},
   "source": [
    "#  Case-study on real Time dataset using Artificial Neural Networks"
   ]
  },
  {
   "cell_type": "markdown",
   "metadata": {},
   "source": [
    "We are going to do a case study on case study on real time dataset using Arificial Neural Network(ANN).\n",
    "The dataset in which we going to do the ANN is from an European Bank in order to know how many customers have left the bank"
   ]
  },
  {
   "cell_type": "code",
   "execution_count": 1,
   "metadata": {},
   "outputs": [],
   "source": [
    "#Import the libraries\n",
    "import numpy as np\n",
    "import matplotlib.pyplot as plt\n",
    "import pandas as pd\n",
    "import seaborn as sb"
   ]
  },
  {
   "cell_type": "code",
   "execution_count": 2,
   "metadata": {},
   "outputs": [
    {
     "data": {
      "text/html": [
       "<div>\n",
       "<style scoped>\n",
       "    .dataframe tbody tr th:only-of-type {\n",
       "        vertical-align: middle;\n",
       "    }\n",
       "\n",
       "    .dataframe tbody tr th {\n",
       "        vertical-align: top;\n",
       "    }\n",
       "\n",
       "    .dataframe thead th {\n",
       "        text-align: right;\n",
       "    }\n",
       "</style>\n",
       "<table border=\"1\" class=\"dataframe\">\n",
       "  <thead>\n",
       "    <tr style=\"text-align: right;\">\n",
       "      <th></th>\n",
       "      <th>RowNumber</th>\n",
       "      <th>CustomerId</th>\n",
       "      <th>Surname</th>\n",
       "      <th>CreditScore</th>\n",
       "      <th>Geography</th>\n",
       "      <th>Gender</th>\n",
       "      <th>Age</th>\n",
       "      <th>Tenure</th>\n",
       "      <th>Balance</th>\n",
       "      <th>NumOfProducts</th>\n",
       "      <th>HasCrCard</th>\n",
       "      <th>IsActiveMember</th>\n",
       "      <th>EstimatedSalary</th>\n",
       "      <th>Exited</th>\n",
       "    </tr>\n",
       "  </thead>\n",
       "  <tbody>\n",
       "    <tr>\n",
       "      <th>0</th>\n",
       "      <td>1</td>\n",
       "      <td>15634602</td>\n",
       "      <td>Hargrave</td>\n",
       "      <td>619</td>\n",
       "      <td>France</td>\n",
       "      <td>Female</td>\n",
       "      <td>42</td>\n",
       "      <td>2</td>\n",
       "      <td>0.00</td>\n",
       "      <td>1</td>\n",
       "      <td>1</td>\n",
       "      <td>1</td>\n",
       "      <td>101348.88</td>\n",
       "      <td>1</td>\n",
       "    </tr>\n",
       "    <tr>\n",
       "      <th>1</th>\n",
       "      <td>2</td>\n",
       "      <td>15647311</td>\n",
       "      <td>Hill</td>\n",
       "      <td>608</td>\n",
       "      <td>Spain</td>\n",
       "      <td>Female</td>\n",
       "      <td>41</td>\n",
       "      <td>1</td>\n",
       "      <td>83807.86</td>\n",
       "      <td>1</td>\n",
       "      <td>0</td>\n",
       "      <td>1</td>\n",
       "      <td>112542.58</td>\n",
       "      <td>0</td>\n",
       "    </tr>\n",
       "    <tr>\n",
       "      <th>2</th>\n",
       "      <td>3</td>\n",
       "      <td>15619304</td>\n",
       "      <td>Onio</td>\n",
       "      <td>502</td>\n",
       "      <td>France</td>\n",
       "      <td>Female</td>\n",
       "      <td>42</td>\n",
       "      <td>8</td>\n",
       "      <td>159660.80</td>\n",
       "      <td>3</td>\n",
       "      <td>1</td>\n",
       "      <td>0</td>\n",
       "      <td>113931.57</td>\n",
       "      <td>1</td>\n",
       "    </tr>\n",
       "    <tr>\n",
       "      <th>3</th>\n",
       "      <td>4</td>\n",
       "      <td>15701354</td>\n",
       "      <td>Boni</td>\n",
       "      <td>699</td>\n",
       "      <td>France</td>\n",
       "      <td>Female</td>\n",
       "      <td>39</td>\n",
       "      <td>1</td>\n",
       "      <td>0.00</td>\n",
       "      <td>2</td>\n",
       "      <td>0</td>\n",
       "      <td>0</td>\n",
       "      <td>93826.63</td>\n",
       "      <td>0</td>\n",
       "    </tr>\n",
       "    <tr>\n",
       "      <th>4</th>\n",
       "      <td>5</td>\n",
       "      <td>15737888</td>\n",
       "      <td>Mitchell</td>\n",
       "      <td>850</td>\n",
       "      <td>Spain</td>\n",
       "      <td>Female</td>\n",
       "      <td>43</td>\n",
       "      <td>2</td>\n",
       "      <td>125510.82</td>\n",
       "      <td>1</td>\n",
       "      <td>1</td>\n",
       "      <td>1</td>\n",
       "      <td>79084.10</td>\n",
       "      <td>0</td>\n",
       "    </tr>\n",
       "  </tbody>\n",
       "</table>\n",
       "</div>"
      ],
      "text/plain": [
       "   RowNumber  CustomerId   Surname  CreditScore Geography  Gender  Age  \\\n",
       "0          1    15634602  Hargrave          619    France  Female   42   \n",
       "1          2    15647311      Hill          608     Spain  Female   41   \n",
       "2          3    15619304      Onio          502    France  Female   42   \n",
       "3          4    15701354      Boni          699    France  Female   39   \n",
       "4          5    15737888  Mitchell          850     Spain  Female   43   \n",
       "\n",
       "   Tenure    Balance  NumOfProducts  HasCrCard  IsActiveMember  \\\n",
       "0       2       0.00              1          1               1   \n",
       "1       1   83807.86              1          0               1   \n",
       "2       8  159660.80              3          1               0   \n",
       "3       1       0.00              2          0               0   \n",
       "4       2  125510.82              1          1               1   \n",
       "\n",
       "   EstimatedSalary  Exited  \n",
       "0        101348.88       1  \n",
       "1        112542.58       0  \n",
       "2        113931.57       1  \n",
       "3         93826.63       0  \n",
       "4         79084.10       0  "
      ]
     },
     "execution_count": 2,
     "metadata": {},
     "output_type": "execute_result"
    }
   ],
   "source": [
    "#Import the dataset\n",
    "data=pd.read_csv('C:/Users/aksha/Desktop/ai/datasets/Churn_Modelling.csv')\n",
    "data.head()"
   ]
  },
  {
   "cell_type": "code",
   "execution_count": 3,
   "metadata": {},
   "outputs": [
    {
     "data": {
      "text/plain": [
       "(10000, 14)"
      ]
     },
     "execution_count": 3,
     "metadata": {},
     "output_type": "execute_result"
    }
   ],
   "source": [
    "data.shape"
   ]
  },
  {
   "cell_type": "markdown",
   "metadata": {},
   "source": [
    "The dataset contains 10000 rows and 14 columns. This means there are 10000 customers in the bank and the study is done on 14 paramerters which are splitted into 14 different columns.\n",
    "\n",
    "1) RowNumber: Serial number of the dataset.\n",
    "\n",
    "2) CustomerId: Id number given by the bank to customer.\n",
    "\n",
    "3) Surname: Surname of the customer.\n",
    "\n",
    "4) CreditScore: A credit score is a measure of an individual’s ability to pay back the borrowed amount. It is the numerical representation of their creditworthiness. A credit score is a 3 digit number that falls in the range of 300-900, 900 being the highest. You should always work towards reaching a credit score that is close to 900. \n",
    "\n",
    "5) Geography: Location of the customer.\n",
    "\n",
    "6) Gender: Gender of the customer.\n",
    "\n",
    "7) Age: Age of the customer.\n",
    "\n",
    "8) Tenure: Time from which the customer is associated with the bank.\n",
    "\n",
    "9) Balance: Amount maintained by the customer in the bank.\n",
    "\n",
    "10) NumOfProducts: Number of products used by the customer from the bank.\n",
    "\n",
    "11) HasCrCard: Using bank's credit card or not. If yes,1 no then 0.\n",
    "\n",
    "12) IsActiveMember: Active customer in the bank or not. If yes,1 no then 0.\n",
    "\n",
    "13) EstimatedSalary: Salary received by the customer at his/ her workplace.\n",
    "\n",
    "14) Exited: Left the bank or not. If yes,1 no then 0."
   ]
  },
  {
   "cell_type": "code",
   "execution_count": 4,
   "metadata": {},
   "outputs": [
    {
     "data": {
      "text/plain": [
       "<matplotlib.axes._subplots.AxesSubplot at 0x19cae3ff6a0>"
      ]
     },
     "execution_count": 4,
     "metadata": {},
     "output_type": "execute_result"
    },
    {
     "data": {
      "image/png": "[encoded data removed]",
      "text/plain": [
       "<Figure size 432x288 with 1 Axes>"
      ]
     },
     "metadata": {
      "needs_background": "light"
     },
     "output_type": "display_data"
    }
   ],
   "source": [
    "sb.countplot(data['Gender'])"
   ]
  },
  {
   "cell_type": "markdown",
   "metadata": {},
   "source": [
    "The above countplot states that the bank has more male customers than female customers"
   ]
  },
  {
   "cell_type": "code",
   "execution_count": 5,
   "metadata": {},
   "outputs": [
    {
     "data": {
      "text/plain": [
       "<matplotlib.axes._subplots.AxesSubplot at 0x19cb04b1208>"
      ]
     },
     "execution_count": 5,
     "metadata": {},
     "output_type": "execute_result"
    },
    {
     "data": {
      "image/png": "[encoded data removed]",
      "text/plain": [
       "<Figure size 432x288 with 1 Axes>"
      ]
     },
     "metadata": {
      "needs_background": "light"
     },
     "output_type": "display_data"
    }
   ],
   "source": [
    "sb.countplot(x=data['Gender'],hue=data['Exited'])"
   ]
  },
  {
   "cell_type": "markdown",
   "metadata": {},
   "source": [
    "The above countplot states that there are female customers who left the bank than the male customers"
   ]
  },
  {
   "cell_type": "code",
   "execution_count": 6,
   "metadata": {},
   "outputs": [
    {
     "data": {
      "text/plain": [
       "<matplotlib.axes._subplots.AxesSubplot at 0x19cb051a668>"
      ]
     },
     "execution_count": 6,
     "metadata": {},
     "output_type": "execute_result"
    },
    {
     "data": {
      "image/png": "[encoded data removed]",
      "text/plain": [
       "<Figure size 432x288 with 1 Axes>"
      ]
     },
     "metadata": {
      "needs_background": "light"
     },
     "output_type": "display_data"
    }
   ],
   "source": [
    "sb.countplot(x=data['Geography'],hue=data['Exited'])"
   ]
  },
  {
   "cell_type": "markdown",
   "metadata": {},
   "source": [
    "The above countplot indicates that Germany had the lowest number of customers from the bank and highest amount of customers who left the bank were from Germany. "
   ]
  },
  {
   "cell_type": "code",
   "execution_count": 7,
   "metadata": {},
   "outputs": [],
   "source": [
    "x=data.iloc[:,3:13].values\n",
    "y=data.iloc[:,13].values\n"
   ]
  },
  {
   "cell_type": "code",
   "execution_count": 8,
   "metadata": {},
   "outputs": [
    {
     "data": {
      "text/plain": [
       "array([[619, 'France', 'Female', ..., 1, 1, 101348.88],\n",
       "       [608, 'Spain', 'Female', ..., 0, 1, 112542.58],\n",
       "       [502, 'France', 'Female', ..., 1, 0, 113931.57],\n",
       "       ...,\n",
       "       [709, 'France', 'Female', ..., 0, 1, 42085.58],\n",
       "       [772, 'Germany', 'Male', ..., 1, 0, 92888.52],\n",
       "       [792, 'France', 'Female', ..., 1, 0, 38190.78]], dtype=object)"
      ]
     },
     "execution_count": 8,
     "metadata": {},
     "output_type": "execute_result"
    }
   ],
   "source": [
    "x"
   ]
  },
  {
   "cell_type": "code",
   "execution_count": 9,
   "metadata": {},
   "outputs": [
    {
     "data": {
      "text/plain": [
       "array([1, 0, 1, ..., 1, 1, 0], dtype=int64)"
      ]
     },
     "execution_count": 9,
     "metadata": {},
     "output_type": "execute_result"
    }
   ],
   "source": [
    "y"
   ]
  },
  {
   "cell_type": "code",
   "execution_count": 10,
   "metadata": {},
   "outputs": [
    {
     "data": {
      "text/plain": [
       "<matplotlib.axes._subplots.AxesSubplot at 0x19cb069b6a0>"
      ]
     },
     "execution_count": 10,
     "metadata": {},
     "output_type": "execute_result"
    },
    {
     "data": {
      "image/png": "[encoded data removed]",
      "text/plain": [
       "<Figure size 432x288 with 2 Axes>"
      ]
     },
     "metadata": {
      "needs_background": "light"
     },
     "output_type": "display_data"
    }
   ],
   "source": [
    "sb.heatmap(data.isnull())"
   ]
  },
  {
   "cell_type": "markdown",
   "metadata": {},
   "source": [
    "The heatmap indicates that there are no null values in dataset"
   ]
  },
  {
   "cell_type": "code",
   "execution_count": 11,
   "metadata": {},
   "outputs": [
    {
     "data": {
      "text/plain": [
       "array([[619, 0, 0, ..., 1, 1, 101348.88],\n",
       "       [608, 2, 0, ..., 0, 1, 112542.58],\n",
       "       [502, 0, 0, ..., 1, 0, 113931.57],\n",
       "       ...,\n",
       "       [709, 0, 0, ..., 0, 1, 42085.58],\n",
       "       [772, 1, 1, ..., 1, 0, 92888.52],\n",
       "       [792, 0, 0, ..., 1, 0, 38190.78]], dtype=object)"
      ]
     },
     "execution_count": 11,
     "metadata": {},
     "output_type": "execute_result"
    }
   ],
   "source": [
    "#Encoding catagorical data\n",
    "from sklearn.preprocessing import LabelEncoder,OneHotEncoder\n",
    "labelencoder_x_1=LabelEncoder()\n",
    "x[:,1]=labelencoder_x_1.fit_transform(x[:,1])\n",
    "labelencoder_x_2=LabelEncoder()\n",
    "x[:,2]=labelencoder_x_2.fit_transform(x[:,2])\n",
    "x\n",
    "\n"
   ]
  },
  {
   "cell_type": "markdown",
   "metadata": {},
   "source": [
    "LabelEncoder,OneHotEncoder is used for converting characters into numbers"
   ]
  },
  {
   "cell_type": "code",
   "execution_count": 12,
   "metadata": {},
   "outputs": [],
   "source": [
    "#Splitting the dataset into train and test set\n",
    "from sklearn.model_selection import train_test_split\n",
    "x_train,x_test,y_train,y_test=train_test_split(x,y,test_size=0.2,random_state=0)"
   ]
  },
  {
   "cell_type": "code",
   "execution_count": 13,
   "metadata": {},
   "outputs": [
    {
     "name": "stderr",
     "output_type": "stream",
     "text": [
      "C:\\Users\\aksha\\Anaconda3\\lib\\site-packages\\sklearn\\utils\\validation.py:595: DataConversionWarning: Data with input dtype object was converted to float64 by StandardScaler.\n",
      "  warnings.warn(msg, DataConversionWarning)\n",
      "C:\\Users\\aksha\\Anaconda3\\lib\\site-packages\\sklearn\\utils\\validation.py:595: DataConversionWarning: Data with input dtype object was converted to float64 by StandardScaler.\n",
      "  warnings.warn(msg, DataConversionWarning)\n",
      "C:\\Users\\aksha\\Anaconda3\\lib\\site-packages\\sklearn\\utils\\validation.py:595: DataConversionWarning: Data with input dtype object was converted to float64 by StandardScaler.\n",
      "  warnings.warn(msg, DataConversionWarning)\n"
     ]
    }
   ],
   "source": [
    "#Feature scaling\n",
    "from sklearn.preprocessing import StandardScaler\n",
    "sc=StandardScaler()\n",
    "x_train=sc.fit_transform(x_train)\n",
    "x_test=sc.transform(x_test)"
   ]
  },
  {
   "cell_type": "code",
   "execution_count": 14,
   "metadata": {},
   "outputs": [
    {
     "data": {
      "text/plain": [
       "array([[-0.55204276,  0.3131264 , -1.09168714, ...,  0.64259497,\n",
       "         0.9687384 ,  1.61085707],\n",
       "       [-1.31490297, -0.89294542, -1.09168714, ...,  0.64259497,\n",
       "        -1.03227043,  0.49587037],\n",
       "       [ 0.57162971,  1.51919821, -1.09168714, ...,  0.64259497,\n",
       "         0.9687384 , -0.42478674],\n",
       "       ...,\n",
       "       [-0.74791227,  1.51919821,  0.91601335, ...,  0.64259497,\n",
       "        -1.03227043,  0.71888467],\n",
       "       [-0.00566991,  0.3131264 ,  0.91601335, ...,  0.64259497,\n",
       "         0.9687384 , -1.54507805],\n",
       "       [-0.79945688,  0.3131264 ,  0.91601335, ...,  0.64259497,\n",
       "        -1.03227043,  1.61255917]])"
      ]
     },
     "execution_count": 14,
     "metadata": {},
     "output_type": "execute_result"
    }
   ],
   "source": [
    "x_test"
   ]
  },
  {
   "cell_type": "code",
   "execution_count": 15,
   "metadata": {},
   "outputs": [
    {
     "name": "stderr",
     "output_type": "stream",
     "text": [
      "Using TensorFlow backend.\n"
     ]
    }
   ],
   "source": [
    "#import the keras libraries\n",
    "import keras\n",
    "from keras.models import Sequential\n",
    "from keras.layers import Dense"
   ]
  },
  {
   "cell_type": "code",
   "execution_count": 16,
   "metadata": {},
   "outputs": [
    {
     "name": "stdout",
     "output_type": "stream",
     "text": [
      "WARNING:tensorflow:From C:\\Users\\aksha\\Anaconda3\\lib\\site-packages\\tensorflow\\python\\framework\\op_def_library.py:263: colocate_with (from tensorflow.python.framework.ops) is deprecated and will be removed in a future version.\n",
      "Instructions for updating:\n",
      "Colocations handled automatically by placer.\n",
      "WARNING:tensorflow:From C:\\Users\\aksha\\Anaconda3\\lib\\site-packages\\tensorflow\\python\\ops\\math_ops.py:3066: to_int32 (from tensorflow.python.ops.math_ops) is deprecated and will be removed in a future version.\n",
      "Instructions for updating:\n",
      "Use tf.cast instead.\n",
      "Epoch 1/100\n",
      "8000/8000 [==============================] - 5s 592us/step - loss: 0.4900 - acc: 0.7955\n",
      "Epoch 2/100\n",
      "8000/8000 [==============================] - 1s 168us/step - loss: 0.4354 - acc: 0.7960\n",
      "Epoch 3/100\n",
      "8000/8000 [==============================] - 1s 169us/step - loss: 0.4330 - acc: 0.7960\n",
      "Epoch 4/100\n",
      "8000/8000 [==============================] - 1s 169us/step - loss: 0.4301 - acc: 0.7960\n",
      "Epoch 5/100\n",
      "8000/8000 [==============================] - 1s 181us/step - loss: 0.4262 - acc: 0.8024\n",
      "Epoch 6/100\n",
      "8000/8000 [==============================] - 2s 220us/step - loss: 0.4229 - acc: 0.8197\n",
      "Epoch 7/100\n",
      "8000/8000 [==============================] - 2s 223us/step - loss: 0.4204 - acc: 0.8244\n",
      "Epoch 8/100\n",
      "8000/8000 [==============================] - 1s 176us/step - loss: 0.4176 - acc: 0.8302\n",
      "Epoch 9/100\n",
      "8000/8000 [==============================] - 1s 180us/step - loss: 0.4161 - acc: 0.8295\n",
      "Epoch 10/100\n",
      "8000/8000 [==============================] - 2s 206us/step - loss: 0.4139 - acc: 0.8314\n",
      "Epoch 11/100\n",
      "8000/8000 [==============================] - 2s 199us/step - loss: 0.4124 - acc: 0.8315\n",
      "Epoch 12/100\n",
      "8000/8000 [==============================] - 2s 188us/step - loss: 0.4111 - acc: 0.8316 1s\n",
      "Epoch 13/100\n",
      "8000/8000 [==============================] - 1s 173us/step - loss: 0.4100 - acc: 0.8325\n",
      "Epoch 14/100\n",
      "8000/8000 [==============================] - 1s 173us/step - loss: 0.4094 - acc: 0.8332\n",
      "Epoch 15/100\n",
      "8000/8000 [==============================] - 1s 174us/step - loss: 0.4082 - acc: 0.8340\n",
      "Epoch 16/100\n",
      "8000/8000 [==============================] - 2s 211us/step - loss: 0.4071 - acc: 0.8344\n",
      "Epoch 17/100\n",
      "8000/8000 [==============================] - 2s 224us/step - loss: 0.4063 - acc: 0.8335\n",
      "Epoch 18/100\n",
      "8000/8000 [==============================] - 2s 205us/step - loss: 0.4059 - acc: 0.8352\n",
      "Epoch 19/100\n",
      "8000/8000 [==============================] - 2s 198us/step - loss: 0.4055 - acc: 0.8345\n",
      "Epoch 20/100\n",
      "8000/8000 [==============================] - 1s 179us/step - loss: 0.4050 - acc: 0.8350\n",
      "Epoch 21/100\n",
      "8000/8000 [==============================] - 1s 184us/step - loss: 0.4043 - acc: 0.8340\n",
      "Epoch 22/100\n",
      "8000/8000 [==============================] - 2s 211us/step - loss: 0.4042 - acc: 0.8344\n",
      "Epoch 23/100\n",
      "8000/8000 [==============================] - 1s 152us/step - loss: 0.4034 - acc: 0.8352\n",
      "Epoch 24/100\n",
      "8000/8000 [==============================] - 1s 143us/step - loss: 0.4031 - acc: 0.8352\n",
      "Epoch 25/100\n",
      "8000/8000 [==============================] - 1s 143us/step - loss: 0.4030 - acc: 0.8336\n",
      "Epoch 26/100\n",
      "8000/8000 [==============================] - 1s 147us/step - loss: 0.4030 - acc: 0.8340 0s - loss: 0.4026 - \n",
      "Epoch 27/100\n",
      "8000/8000 [==============================] - 1s 170us/step - loss: 0.4018 - acc: 0.8355\n",
      "Epoch 28/100\n",
      "8000/8000 [==============================] - 2s 190us/step - loss: 0.4030 - acc: 0.8355\n",
      "Epoch 29/100\n",
      "8000/8000 [==============================] - 2s 205us/step - loss: 0.4028 - acc: 0.8360\n",
      "Epoch 30/100\n",
      "8000/8000 [==============================] - 2s 218us/step - loss: 0.4022 - acc: 0.8355\n",
      "Epoch 31/100\n",
      "8000/8000 [==============================] - 2s 234us/step - loss: 0.4024 - acc: 0.8351\n",
      "Epoch 32/100\n",
      "8000/8000 [==============================] - 2s 195us/step - loss: 0.4020 - acc: 0.8355\n",
      "Epoch 33/100\n",
      "8000/8000 [==============================] - 1s 158us/step - loss: 0.4014 - acc: 0.8347\n",
      "Epoch 34/100\n",
      "8000/8000 [==============================] - 1s 168us/step - loss: 0.4019 - acc: 0.8351\n",
      "Epoch 35/100\n",
      "8000/8000 [==============================] - 1s 176us/step - loss: 0.4019 - acc: 0.8356\n",
      "Epoch 36/100\n",
      "8000/8000 [==============================] - 1s 170us/step - loss: 0.4016 - acc: 0.8351\n",
      "Epoch 37/100\n",
      "8000/8000 [==============================] - 1s 168us/step - loss: 0.4007 - acc: 0.8355\n",
      "Epoch 38/100\n",
      "8000/8000 [==============================] - 2s 219us/step - loss: 0.4008 - acc: 0.8372\n",
      "Epoch 39/100\n",
      "8000/8000 [==============================] - 2s 198us/step - loss: 0.4015 - acc: 0.8351\n",
      "Epoch 40/100\n",
      "8000/8000 [==============================] - 1s 166us/step - loss: 0.4010 - acc: 0.8352\n",
      "Epoch 41/100\n",
      "8000/8000 [==============================] - 1s 175us/step - loss: 0.4014 - acc: 0.8361\n",
      "Epoch 42/100\n",
      "8000/8000 [==============================] - 1s 150us/step - loss: 0.4014 - acc: 0.8361\n",
      "Epoch 43/100\n",
      "8000/8000 [==============================] - 1s 144us/step - loss: 0.4010 - acc: 0.8352\n",
      "Epoch 44/100\n",
      "8000/8000 [==============================] - 1s 174us/step - loss: 0.4011 - acc: 0.8349\n",
      "Epoch 45/100\n",
      "8000/8000 [==============================] - 1s 177us/step - loss: 0.4012 - acc: 0.8350\n",
      "Epoch 46/100\n",
      "8000/8000 [==============================] - 1s 159us/step - loss: 0.4010 - acc: 0.8350\n",
      "Epoch 47/100\n",
      "8000/8000 [==============================] - 1s 145us/step - loss: 0.4008 - acc: 0.8347\n",
      "Epoch 48/100\n",
      "8000/8000 [==============================] - 1s 143us/step - loss: 0.4007 - acc: 0.8349\n",
      "Epoch 49/100\n",
      "8000/8000 [==============================] - 1s 187us/step - loss: 0.4009 - acc: 0.8340\n",
      "Epoch 50/100\n",
      "8000/8000 [==============================] - 2s 188us/step - loss: 0.4005 - acc: 0.8342\n",
      "Epoch 51/100\n",
      "8000/8000 [==============================] - 1s 155us/step - loss: 0.4008 - acc: 0.8356\n",
      "Epoch 52/100\n",
      "8000/8000 [==============================] - 1s 145us/step - loss: 0.4009 - acc: 0.8355\n",
      "Epoch 53/100\n",
      "8000/8000 [==============================] - 1s 145us/step - loss: 0.4007 - acc: 0.8354\n",
      "Epoch 54/100\n",
      "8000/8000 [==============================] - 1s 145us/step - loss: 0.4004 - acc: 0.8344\n",
      "Epoch 55/100\n",
      "8000/8000 [==============================] - 1s 145us/step - loss: 0.4004 - acc: 0.8351\n",
      "Epoch 56/100\n",
      "8000/8000 [==============================] - 1s 176us/step - loss: 0.4005 - acc: 0.8355\n",
      "Epoch 57/100\n",
      "8000/8000 [==============================] - 2s 208us/step - loss: 0.4003 - acc: 0.8359\n",
      "Epoch 58/100\n",
      "8000/8000 [==============================] - 1s 157us/step - loss: 0.4002 - acc: 0.8346\n",
      "Epoch 59/100\n",
      "8000/8000 [==============================] - 1s 187us/step - loss: 0.4000 - acc: 0.8349\n",
      "Epoch 60/100\n",
      "8000/8000 [==============================] - 1s 175us/step - loss: 0.4002 - acc: 0.8354\n",
      "Epoch 61/100\n",
      "8000/8000 [==============================] - 2s 208us/step - loss: 0.4000 - acc: 0.8346\n",
      "Epoch 62/100\n",
      "8000/8000 [==============================] - 2s 193us/step - loss: 0.4003 - acc: 0.8361\n",
      "Epoch 63/100\n",
      "8000/8000 [==============================] - 1s 164us/step - loss: 0.4006 - acc: 0.8342\n",
      "Epoch 64/100\n",
      "8000/8000 [==============================] - 1s 151us/step - loss: 0.4000 - acc: 0.8351\n",
      "Epoch 65/100\n",
      "8000/8000 [==============================] - 1s 170us/step - loss: 0.4003 - acc: 0.8351\n",
      "Epoch 66/100\n",
      "8000/8000 [==============================] - 1s 155us/step - loss: 0.4005 - acc: 0.8351\n",
      "Epoch 67/100\n",
      "8000/8000 [==============================] - 1s 148us/step - loss: 0.3998 - acc: 0.8351\n",
      "Epoch 68/100\n",
      "8000/8000 [==============================] - 1s 143us/step - loss: 0.4001 - acc: 0.8346\n",
      "Epoch 69/100\n",
      "8000/8000 [==============================] - 1s 145us/step - loss: 0.4001 - acc: 0.8341\n",
      "Epoch 70/100\n",
      "8000/8000 [==============================] - 1s 176us/step - loss: 0.4003 - acc: 0.8357\n",
      "Epoch 71/100\n",
      "8000/8000 [==============================] - 1s 153us/step - loss: 0.3997 - acc: 0.8340\n",
      "Epoch 72/100\n",
      "8000/8000 [==============================] - 1s 151us/step - loss: 0.3992 - acc: 0.8361\n",
      "Epoch 73/100\n",
      "8000/8000 [==============================] - 1s 157us/step - loss: 0.4000 - acc: 0.8355\n",
      "Epoch 74/100\n",
      "8000/8000 [==============================] - 2s 190us/step - loss: 0.3994 - acc: 0.8337\n",
      "Epoch 75/100\n",
      "8000/8000 [==============================] - 1s 168us/step - loss: 0.4002 - acc: 0.8351\n",
      "Epoch 76/100\n",
      "8000/8000 [==============================] - 1s 152us/step - loss: 0.3997 - acc: 0.8337\n",
      "Epoch 77/100\n",
      "8000/8000 [==============================] - 1s 151us/step - loss: 0.3999 - acc: 0.8351\n",
      "Epoch 78/100\n",
      "8000/8000 [==============================] - 1s 150us/step - loss: 0.3995 - acc: 0.8347\n",
      "Epoch 79/100\n",
      "8000/8000 [==============================] - 1s 151us/step - loss: 0.3998 - acc: 0.8355\n",
      "Epoch 80/100\n",
      "8000/8000 [==============================] - 1s 149us/step - loss: 0.3997 - acc: 0.8356\n",
      "Epoch 81/100\n",
      "8000/8000 [==============================] - 1s 153us/step - loss: 0.3995 - acc: 0.8340\n",
      "Epoch 82/100\n",
      "8000/8000 [==============================] - 1s 151us/step - loss: 0.3993 - acc: 0.8350\n",
      "Epoch 83/100\n",
      "8000/8000 [==============================] - 1s 155us/step - loss: 0.3994 - acc: 0.8335\n",
      "Epoch 84/100\n",
      "8000/8000 [==============================] - 1s 156us/step - loss: 0.3996 - acc: 0.8341\n",
      "Epoch 85/100\n",
      "8000/8000 [==============================] - 1s 186us/step - loss: 0.4001 - acc: 0.8351\n",
      "Epoch 86/100\n",
      "8000/8000 [==============================] - 1s 166us/step - loss: 0.3997 - acc: 0.8345\n",
      "Epoch 87/100\n",
      "8000/8000 [==============================] - 1s 187us/step - loss: 0.3992 - acc: 0.8350\n",
      "Epoch 88/100\n",
      "8000/8000 [==============================] - ETA: 0s - loss: 0.4006 - acc: 0.833 - 1s 152us/step - loss: 0.3997 - acc: 0.8345\n",
      "Epoch 89/100\n",
      "8000/8000 [==============================] - 1s 149us/step - loss: 0.3997 - acc: 0.8354\n",
      "Epoch 90/100\n",
      "8000/8000 [==============================] - 1s 155us/step - loss: 0.3999 - acc: 0.8354\n",
      "Epoch 91/100\n",
      "8000/8000 [==============================] - 1s 164us/step - loss: 0.3997 - acc: 0.8351\n",
      "Epoch 92/100\n",
      "8000/8000 [==============================] - 1s 167us/step - loss: 0.3998 - acc: 0.8351 0s - loss: \n",
      "Epoch 93/100\n",
      "8000/8000 [==============================] - 1s 146us/step - loss: 0.3997 - acc: 0.8347\n",
      "Epoch 94/100\n",
      "8000/8000 [==============================] - 1s 142us/step - loss: 0.3994 - acc: 0.8359\n",
      "Epoch 95/100\n",
      "8000/8000 [==============================] - 1s 158us/step - loss: 0.3996 - acc: 0.8344\n",
      "Epoch 96/100\n",
      "8000/8000 [==============================] - 2s 196us/step - loss: 0.3992 - acc: 0.8357\n",
      "Epoch 97/100\n",
      "8000/8000 [==============================] - 1s 144us/step - loss: 0.3998 - acc: 0.8349\n",
      "Epoch 98/100\n",
      "8000/8000 [==============================] - 1s 142us/step - loss: 0.3995 - acc: 0.8359\n",
      "Epoch 99/100\n",
      "8000/8000 [==============================] - 1s 176us/step - loss: 0.3995 - acc: 0.8355\n",
      "Epoch 100/100\n",
      "8000/8000 [==============================] - 1s 169us/step - loss: 0.3993 - acc: 0.8351\n"
     ]
    },
    {
     "data": {
      "text/plain": [
       "<keras.callbacks.History at 0x19cb6cadc50>"
      ]
     },
     "execution_count": 16,
     "metadata": {},
     "output_type": "execute_result"
    }
   ],
   "source": [
    "#Initialising the ANN\n",
    "classifier=Sequential()\n",
    "#Adding the input and first hidden layer\n",
    "classifier.add(Dense(units=6,kernel_initializer='uniform',activation='relu',input_dim=10))\n",
    "#Adding the second hidden layer\n",
    "classifier.add(Dense(units=6,kernel_initializer='uniform',activation='relu'))\n",
    "#Adding the output layer\n",
    "classifier.add(Dense(units=1,kernel_initializer='uniform',activation='sigmoid'))\n",
    "#Compiling the ANN\n",
    "classifier.compile(optimizer='adam',loss='binary_crossentropy',metrics=['accuracy'])\n",
    "#Fitting the ANN to the training set\n",
    "classifier.fit(x_train,y_train,batch_size=10,epochs=100)"
   ]
  },
  {
   "cell_type": "code",
   "execution_count": 17,
   "metadata": {},
   "outputs": [],
   "source": [
    "y_pred=classifier.predict(x_test)\n",
    "y_pred=(y_pred>0.5)"
   ]
  },
  {
   "cell_type": "code",
   "execution_count": 18,
   "metadata": {},
   "outputs": [
    {
     "name": "stdout",
     "output_type": "stream",
     "text": [
      "accuracy score: 0.843\n"
     ]
    }
   ],
   "source": [
    "#Accuracy score\n",
    "from sklearn.metrics import accuracy_score\n",
    "print('accuracy score:',accuracy_score(y_test,y_pred))"
   ]
  },
  {
   "cell_type": "code",
   "execution_count": 19,
   "metadata": {},
   "outputs": [
    {
     "data": {
      "text/plain": [
       "array([[False],\n",
       "       [False],\n",
       "       [False],\n",
       "       ...,\n",
       "       [False],\n",
       "       [False],\n",
       "       [False]])"
      ]
     },
     "execution_count": 19,
     "metadata": {},
     "output_type": "execute_result"
    }
   ],
   "source": [
    "y_pred\n"
   ]
  },
  {
   "cell_type": "code",
   "execution_count": null,
   "metadata": {},
   "outputs": [],
   "source": [
    "#confusion matrix and classification report"
   ]
  }
 ],
 "metadata": {
  "kernelspec": {
   "display_name": "Python 3",
   "language": "python",
   "name": "python3"
  },
  "language_info": {
   "codemirror_mode": {
    "name": "ipython",
    "version": 3
   },
   "file_extension": ".py",
   "mimetype": "text/x-python",
   "name": "python",
   "nbconvert_exporter": "python",
   "pygments_lexer": "ipython3",
   "version": "3.6.5"
  }
 },
 "nbformat": 4,
 "nbformat_minor": 2
}
